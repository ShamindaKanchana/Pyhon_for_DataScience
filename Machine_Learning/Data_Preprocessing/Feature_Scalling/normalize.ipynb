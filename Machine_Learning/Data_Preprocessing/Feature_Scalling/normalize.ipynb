{
 "cells": [
  {
   "cell_type": "code",
   "execution_count": 1,
   "metadata": {},
   "outputs": [
    {
     "name": "stdout",
     "output_type": "stream",
     "text": [
      "     A    B\n",
      "0  0.0  0.0\n",
      "1  0.5  0.5\n",
      "2  1.0  1.0\n"
     ]
    }
   ],
   "source": [
    "import pandas as pd\n",
    "from sklearn.preprocessing import MinMaxScaler\n",
    "\n",
    "# Sample DataFrame\n",
    "data = {'A': [10, 20, 30],\n",
    "        'B': [40, 50, 60]}\n",
    "df = pd.DataFrame(data)\n",
    "\n",
    "# Create a MinMaxScaler object\n",
    "scaler = MinMaxScaler()\n",
    "\n",
    "# Fit the scaler to the DataFrame\n",
    "scaler.fit(df)\n",
    "\n",
    "# Transform the DataFrame\n",
    "df_normalized = scaler.transform(df)\n",
    "\n",
    "# Convert the transformed data back to a DataFrame\n",
    "df_normalized = pd.DataFrame(df_normalized, columns=df.columns)\n",
    "\n",
    "print(df_normalized)"
   ]
  },
  {
   "cell_type": "code",
   "execution_count": 2,
   "metadata": {},
   "outputs": [
    {
     "name": "stdout",
     "output_type": "stream",
     "text": [
      "     A    B  C\n",
      "0  0.0  0.0  a\n",
      "1  0.5  0.5  b\n",
      "2  1.0  1.0  c\n"
     ]
    }
   ],
   "source": [
    "\n",
    "# Sample DataFrame\n",
    "data = {'A': [10, 20, 30],\n",
    "        'B': [40, 50, 60],\n",
    "        'C': ['a', 'b', 'c']}\n",
    "df = pd.DataFrame(data)\n",
    "\n",
    "# Create a MinMaxScaler object\n",
    "scaler = MinMaxScaler()\n",
    "\n",
    "# Fit the scaler to the specific columns you want to throughnormalize\n",
    "columns_to_normalize = ['A', 'B']\n",
    "df_normalized = df.copy()\n",
    "df_normalized[columns_to_normalize] = scaler.fit_transform(df[columns_to_normalize])\n",
    "\n",
    "print(df_normalized)"
   ]
  }
 ],
 "metadata": {
  "kernelspec": {
   "display_name": "Python 3",
   "language": "python",
   "name": "python3"
  },
  "language_info": {
   "codemirror_mode": {
    "name": "ipython",
    "version": 3
   },
   "file_extension": ".py",
   "mimetype": "text/x-python",
   "name": "python",
   "nbconvert_exporter": "python",
   "pygments_lexer": "ipython3",
   "version": "3.11.9"
  }
 },
 "nbformat": 4,
 "nbformat_minor": 2
}
