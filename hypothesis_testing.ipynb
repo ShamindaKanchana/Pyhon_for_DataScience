{
 "cells": [
  {
   "cell_type": "code",
   "execution_count": 2,
   "metadata": {},
   "outputs": [],
   "source": [
    "import scipy.stats as st \n",
    "import numpy as np"
   ]
  },
  {
   "cell_type": "code",
   "execution_count": 3,
   "metadata": {},
   "outputs": [
    {
     "data": {
      "text/plain": [
       "np.float64(1.6448536269514722)"
      ]
     },
     "execution_count": 3,
     "metadata": {},
     "output_type": "execute_result"
    }
   ],
   "source": [
    "ap=0.05\n",
    "st.norm.ppf(1-ap)"
   ]
  },
  {
   "cell_type": "code",
   "execution_count": 4,
   "metadata": {},
   "outputs": [],
   "source": [
    "#Example :A teacher claims that the mean score of students in his class is greater than 82 with a standard deviation of 20.If a sample of 81 students was selected with a mean score 90.\n",
    "s_x=90\n",
    "p_u=82\n",
    "p_std=20\n",
    "n=81"
   ]
  },
  {
   "cell_type": "code",
   "execution_count": 11,
   "metadata": {},
   "outputs": [
    {
     "data": {
      "text/plain": [
       "np.float64(3.5999999999999996)"
      ]
     },
     "execution_count": 11,
     "metadata": {},
     "output_type": "execute_result"
    }
   ],
   "source": [
    "z_cal=(s_x-p_u)/(p_std/np.sqrt(n))  #calculate the z value \n",
    "z_cal"
   ]
  },
  {
   "cell_type": "code",
   "execution_count": 13,
   "metadata": {},
   "outputs": [
    {
     "data": {
      "text/plain": [
       "np.float64(1.6448536269514722)"
      ]
     },
     "execution_count": 13,
     "metadata": {},
     "output_type": "execute_result"
    }
   ],
   "source": [
    "z_table=st.norm.ppf(1-ap)\n",
    "z_table"
   ]
  },
  {
   "cell_type": "code",
   "execution_count": 19,
   "metadata": {},
   "outputs": [
    {
     "name": "stdout",
     "output_type": "stream",
     "text": [
      "ha is right\n"
     ]
    }
   ],
   "source": [
    "if z_table<z_cal:\n",
    "    print(\"ha is right\")\n",
    "else:\n",
    "    print(\"ho is right\")"
   ]
  },
  {
   "cell_type": "code",
   "execution_count": 9,
   "metadata": {},
   "outputs": [],
   "source": [
    "#Hypothesis testing EX02\n",
    "Old_design_data=np.array([45.2,42.8,38.9,43.5,41.0,44.6,40.5,42.7,39.8,41.4,44.3,39.7,42.1,40.6,43.0,42.2,41.5,39.6,44.0,43.1,38.7,43.9,42.0,41.9,42.8,43.7,41.3,40.9,42.5,41.6])\n",
    "New_design_data=np.array([48.5,49.1,50.2,47.8,48.7,49.9,48.0,50.5,49.8,49.6,48.2,48.9,49.7,50.3,49.4,50.1,48.6,48.3,49.0,50.0,48.4,49.3,49.5,48.8,50.6,50.4,48.1,49.2,50.7,50.8])\n",
    "\n",
    "mean_new=np.mean(New_design_data)\n",
    "mean_old=np.mean(Old_design_data)\n",
    "\n",
    "pop_std=2.5\n",
    "n_sp=len(New_design_data)\n"
   ]
  },
  {
   "cell_type": "code",
   "execution_count": 14,
   "metadata": {},
   "outputs": [
    {
     "name": "stdout",
     "output_type": "stream",
     "text": [
      "ha is right\n"
     ]
    }
   ],
   "source": [
    "z_cal=(mean_new-mean_old)/(pop_std/np.sqrt(n_sp))\n",
    "\n",
    "\n",
    "if z_cal>z_table:\n",
    "    print(\"ha is right\")\n",
    "else:\n",
    "    print(\"h1 is right\")    "
   ]
  }
 ],
 "metadata": {
  "kernelspec": {
   "display_name": "Python 3",
   "language": "python",
   "name": "python3"
  },
  "language_info": {
   "codemirror_mode": {
    "name": "ipython",
    "version": 3
   },
   "file_extension": ".py",
   "mimetype": "text/x-python",
   "name": "python",
   "nbconvert_exporter": "python",
   "pygments_lexer": "ipython3",
   "version": "3.11.9"
  }
 },
 "nbformat": 4,
 "nbformat_minor": 2
}
